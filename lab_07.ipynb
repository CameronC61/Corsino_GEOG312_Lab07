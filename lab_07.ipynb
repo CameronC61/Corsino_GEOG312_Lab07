{
  "cells": [
    {
      "cell_type": "markdown",
      "metadata": {
        "id": "5EledTo2UlDx"
      },
      "source": [
        "[![image](https://colab.research.google.com/assets/colab-badge.svg)](https://colab.research.google.com/github/giswqs/geog-312/blob/master/labs/lab_07.ipynb)\n",
        "[![image](https://binder.pangeo.io/badge_logo.svg)](https://gishub.org/geog312-pangeo)\n",
        "\n",
        "**Cameron Corsino**"
      ]
    },
    {
      "cell_type": "code",
      "execution_count": 63,
      "metadata": {
        "id": "0k-7ex5lUlDz",
        "outputId": "900e63b2-9aff-4660-be7c-e0c2b8e873bc",
        "colab": {
          "base_uri": "https://localhost:8080/"
        }
      },
      "outputs": [
        {
          "output_type": "stream",
          "name": "stdout",
          "text": [
            "Submitted time: 2023-10-10 19:53:49.684955\n"
          ]
        }
      ],
      "source": [
        "from datetime import datetime\n",
        "\n",
        "now = datetime.now()\n",
        "print(f\"Submitted time: {now}\")"
      ]
    },
    {
      "cell_type": "markdown",
      "metadata": {
        "id": "IlM3KEXyUlD0"
      },
      "source": [
        "## Question 1\n",
        "**Learning Python:** Open a blank file in your text editor and write a few lines summarizing what you’ve learned about Python so far. Start each line with the phrase *In Python you can. . ..* Save the file as *learning_python.txt* in the same directory as your exercises from this chapter. Write a program that reads the file and prints what you wrote three times. Print the contents once by reading in the entire file, once by looping over the file object, and once by storing the lines in a list and then working with them outside the *with* block."
      ]
    },
    {
      "cell_type": "code",
      "execution_count": 45,
      "metadata": {
        "id": "icqKhQKJUlD0",
        "outputId": "6a598f85-63a3-470e-f221-45b8f295b6c6",
        "colab": {
          "base_uri": "https://localhost:8080/"
        }
      },
      "outputs": [
        {
          "output_type": "stream",
          "name": "stdout",
          "text": [
            "--- Reading in the entire file:\n",
            "In Python you can store data for GIS programming.\n",
            "In Python you can utilize logical and comparative operators.\n",
            "In Python you can solve problems.\n",
            "\n",
            "--- Looping over the lines:\n",
            "In Python you can store data for GIS programming.\n",
            "In Python you can utilize logical and comparative operators.\n",
            "In Python you can solve problems.\n",
            "\n",
            "--- Storing the lines in a list:\n",
            "In Python you can store data for GIS programming.\n",
            "In Python you can utilize logical and comparative operators.\n",
            "In Python you can solve problems.\n"
          ]
        }
      ],
      "source": [
        "f = open(\"learning_python.txt\")\n",
        "filename = 'learning_python.txt'\n",
        "print(\"--- Reading in the entire file:\")\n",
        "with open(filename) as f:\n",
        " contents = f.read()\n",
        "print(contents)\n",
        "print(\"\\n--- Looping over the lines:\")\n",
        "with open(filename) as f:\n",
        "    for line in f:\n",
        "      print(line.rstrip())\n",
        "print(\"\\n--- Storing the lines in a list:\")\n",
        "with open(filename) as f:\n",
        "    lines = f.readlines()\n",
        "for line in lines:\n",
        "    print(line.rstrip())"
      ]
    },
    {
      "cell_type": "markdown",
      "metadata": {
        "id": "BsBBGsBQUlD0"
      },
      "source": [
        "## Question 2\n",
        "**Learning C:** You can use the replace() method to replace any word in a string with a different word. Here’s a quick example showing how to replace 'dog' with 'cat' in a sentence:\n",
        "```\n",
        "message = \"I really like dogs.\"\n",
        "message.replace('dog', 'cat')\n",
        "'I really like cats.'\n",
        "```\n",
        "Read in each line from the file you just created, *learning_python.txt*, and replace the word *Python* with the name of another language, such as *C*. Print each modified line to the screen."
      ]
    },
    {
      "cell_type": "code",
      "execution_count": 46,
      "metadata": {
        "id": "1yOQeJNaUlD1",
        "outputId": "a67f1dbe-64b6-4908-e854-cea71e154ce2",
        "colab": {
          "base_uri": "https://localhost:8080/"
        }
      },
      "outputs": [
        {
          "output_type": "stream",
          "name": "stdout",
          "text": [
            "In C you can store data for GIS programming.\n",
            "In C you can utilize logical and comparative operators.\n",
            "In C you can solve problems.\n"
          ]
        }
      ],
      "source": [
        "filename = 'learning_python.txt'\n",
        "with open(filename) as f:\n",
        "  lines = f.readlines()\n",
        "for line in lines:\n",
        "  line = line.rstrip()\n",
        "  print(line.replace('Python', 'C'))"
      ]
    },
    {
      "cell_type": "markdown",
      "metadata": {
        "id": "jG8TwOeXUlD1"
      },
      "source": [
        "## Question 3\n",
        "**Guest:** Write a program that prompts the user for their name. When they respond, write their name to a file called guest.txt."
      ]
    },
    {
      "cell_type": "code",
      "execution_count": 4,
      "metadata": {
        "id": "2JoNFwMwUlD1",
        "outputId": "135a86fa-138b-479e-d2e8-99de26dcab55",
        "colab": {
          "base_uri": "https://localhost:8080/"
        }
      },
      "outputs": [
        {
          "name": "stdout",
          "output_type": "stream",
          "text": [
            "What is your name? Cam\n"
          ]
        }
      ],
      "source": [
        "name = input('What is your name? ')\n",
        "filename = 'guest.txt'\n",
        "with open(filename, 'w') as f:\n",
        "  f.write(name)"
      ]
    },
    {
      "cell_type": "markdown",
      "metadata": {
        "id": "qvT-Ce5NUlD1"
      },
      "source": [
        "## Question 4\n",
        "**Guest Book:** Write a while loop that prompts users for their name. When they enter their name, print a greeting to the screen and add a line recording their visit in a file called guest_book.txt. Make sure each entry appears on a new line in the file."
      ]
    },
    {
      "cell_type": "code",
      "execution_count": 5,
      "metadata": {
        "id": "SeQoOTB8UlD1",
        "outputId": "70a46b3f-23f4-4043-dfba-f1a5cedd5db5",
        "colab": {
          "base_uri": "https://localhost:8080/"
        }
      },
      "outputs": [
        {
          "name": "stdout",
          "output_type": "stream",
          "text": [
            "'quit'\n",
            "\n",
            "What is your name? Cam\n",
            "Hi Cam, your visit has been recorded.\n",
            "\n",
            "What is your name? Matt\n",
            "Hi Matt, your visit has been recorded.\n",
            "\n",
            "What is your name? Scott\n",
            "Hi Scott, your visit has been recorded.\n",
            "\n",
            "What is your name? quit\n"
          ]
        }
      ],
      "source": [
        "filename = 'guest_book.txt'\n",
        "print(\"'quit'\")\n",
        "while True:\n",
        "  name = input(\"\\nWhat is your name? \")\n",
        "  if name == 'quit':\n",
        "    break\n",
        "  else:\n",
        "    with open(filename, 'a') as f:\n",
        "      f.write(name + \"\\n\")\n",
        "    print(\"Hi \" + name + \", your visit has been recorded.\")"
      ]
    },
    {
      "cell_type": "markdown",
      "metadata": {
        "id": "IA7Ec0EBUlD1"
      },
      "source": [
        "## Question 5\n",
        "**Programming Poll:** Write a while loop that asks people why they like programming. Each time someone enters a reason, add their reason to a file that stores all the responses."
      ]
    },
    {
      "cell_type": "code",
      "execution_count": 6,
      "metadata": {
        "id": "-azyzGWHUlD1",
        "outputId": "54aa2035-a7a2-454a-9f92-4c086771d4a6",
        "colab": {
          "base_uri": "https://localhost:8080/"
        }
      },
      "outputs": [
        {
          "name": "stdout",
          "output_type": "stream",
          "text": [
            "\n",
            "Why do you like programming? It's challenging\n",
            "Add response? (y/n) y\n",
            "\n",
            "Why do you like programming? It solves problems\n",
            "Add response? (y/n) n\n"
          ]
        }
      ],
      "source": [
        "filename = 'programming_poll.txt'\n",
        "responses = []\n",
        "while True:\n",
        "  response = input(\"\\nWhy do you like programming? \")\n",
        "  responses.append(response)\n",
        "  poll = input(\"Add response? (y/n) \")\n",
        "  if poll != 'y':\n",
        "    break\n",
        "with open(filename, 'a') as f:\n",
        "  for response in responses:\n",
        "    f.write(response + \"\\n\")"
      ]
    },
    {
      "cell_type": "markdown",
      "metadata": {
        "id": "iQBYRHL-UlD2"
      },
      "source": [
        "## Question 6\n",
        "**Addition:** One common problem when prompting for numerical input occurs when people provide text instead of numbers. When you try to convert the input to an int, you’ll get a ValueError. Write a program that prompts for two numbers. Add them together and print the result. Catch the ValueError if either input value is not a number, and print a friendly error message. Test your program by entering two numbers and then by entering some text instead of a number."
      ]
    },
    {
      "cell_type": "code",
      "execution_count": 8,
      "metadata": {
        "id": "NVuZZYttUlD2",
        "outputId": "9784c187-172d-4125-a73c-51c34c416b33",
        "colab": {
          "base_uri": "https://localhost:8080/"
        }
      },
      "outputs": [
        {
          "output_type": "stream",
          "name": "stdout",
          "text": [
            "number: 6\n",
            "number: 10\n",
            "sum of 6 and 10 is 16.\n"
          ]
        }
      ],
      "source": [
        "try:\n",
        "  x = input(\"number: \")\n",
        "  x = int(x)\n",
        "  y = input(\"number: \")\n",
        "  y = int(y)\n",
        "except ValueError:\n",
        "  print(\"Please give a number.\")\n",
        "else:\n",
        "  sum = x + y\n",
        "  print(\"sum of \" + str(x) + \" and \" + str(y) + \" is \" + str(sum) + \".\")"
      ]
    },
    {
      "cell_type": "code",
      "source": [
        "try:\n",
        "  x = input(\"number: \")\n",
        "  x = int(x)\n",
        "  y = input(\"number: \")\n",
        "  y = int(y)\n",
        "except ValueError:\n",
        "  print(\"Please give a number.\")\n",
        "else:\n",
        "  sum = x + y\n",
        "  print(\"sum of \" + str(x) + \" and \" + str(y) + \" is \" + str(sum) + \".\")"
      ],
      "metadata": {
        "id": "NUx60vlLpcQw",
        "outputId": "122b44e2-33e0-45ce-d544-a58958624af8",
        "colab": {
          "base_uri": "https://localhost:8080/"
        }
      },
      "execution_count": 9,
      "outputs": [
        {
          "output_type": "stream",
          "name": "stdout",
          "text": [
            "number: 5\n",
            "number: number\n",
            "Please give a number.\n"
          ]
        }
      ]
    },
    {
      "cell_type": "markdown",
      "metadata": {
        "id": "hnZlA4TpUlD2"
      },
      "source": [
        "## Question 7\n",
        "**Addition Calculator:** Wrap your code from Question 6 in a while loop so the user can continue entering numbers even if they make a mistake and enter text instead of a number."
      ]
    },
    {
      "cell_type": "code",
      "execution_count": 10,
      "metadata": {
        "id": "kxW1GL8zUlD2",
        "outputId": "5c0da3da-c1ec-41d0-fd8b-eee146d5bfd3",
        "colab": {
          "base_uri": "https://localhost:8080/"
        }
      },
      "outputs": [
        {
          "name": "stdout",
          "output_type": "stream",
          "text": [
            "'quit'\n",
            "\n",
            "Number: 6\n",
            "Number: number\n",
            "Please give a number.\n",
            "\n",
            "Number: 10\n",
            "Number: 6\n",
            "sum of 10 and 6 is 16.\n",
            "\n",
            "Number: quit\n"
          ]
        }
      ],
      "source": [
        "print(\"'quit'\")\n",
        "while True:\n",
        "  try:\n",
        "    x = input(\"\\nNumber: \")\n",
        "    if x == 'quit':\n",
        "      break\n",
        "    x = int(x)\n",
        "    y = input(\"Number: \")\n",
        "    if y == 'quit':\n",
        "      break\n",
        "    y = int(y)\n",
        "  except ValueError:\n",
        "    print(\"Please give a number.\")\n",
        "  else:\n",
        "    sum = x + y\n",
        "    print(\"sum of \" + str(x) + \" and \" + str(y) + \" is \" + str(sum) + \".\")"
      ]
    },
    {
      "cell_type": "markdown",
      "metadata": {
        "id": "kz0ukCxPUlD2"
      },
      "source": [
        "## Question 8\n",
        "**Cats and Dogs:** Make two files, *cats.txt* and *dogs.txt*. Store at least three names of cats in the first file and three names of dogs in the second file. Write a program that tries to read these files and print the contents of the file to the screen. Wrap your code in a `try-except` block to catch the `FileNotFound` error, and print a friendly message if a file is missing. Move one of the files to a different location on your system, and make sure the code in the `except` block executes properly."
      ]
    },
    {
      "cell_type": "code",
      "execution_count": 56,
      "metadata": {
        "id": "U9rltCRhUlD2",
        "outputId": "f47fc24c-7c30-425c-c9a2-5f4e2c95fd9d",
        "colab": {
          "base_uri": "https://localhost:8080/"
        }
      },
      "outputs": [
        {
          "output_type": "stream",
          "name": "stdout",
          "text": [
            "\n",
            "Reading file: cats.txt\n",
            "Maisie\n",
            "Mooney\n",
            "Stripey\n",
            "\n",
            "Reading file: dogs.txt\n",
            "Sadie\n",
            "Murphy\n",
            "Bruin\n"
          ]
        }
      ],
      "source": [
        "f = open(\"cats.txt\")\n",
        "f = open(\"dogs.txt\")\n",
        "filenames = ['cats.txt', 'dogs.txt']\n",
        "for filename in filenames:\n",
        "  print(\"\\nReading file: \" + filename)\n",
        "  try:\n",
        "    with open(filename) as f:\n",
        "      contents = f.read()\n",
        "      print(contents)\n",
        "  except FileNotFoundError:\n",
        "        print(\"File not found.\")"
      ]
    },
    {
      "cell_type": "code",
      "source": [
        "f = open(\"cats.txt\")\n",
        "f = open(\"dogs.txt\")\n",
        "filenames = ['cat.txt', 'dogs.txt']\n",
        "for filename in filenames:\n",
        "  print(\"\\nReading file: \" + filename)\n",
        "  try:\n",
        "    with open(filename) as f:\n",
        "      contents = f.read()\n",
        "      print(contents)\n",
        "  except FileNotFoundError:\n",
        "        print(\"File not found.\")"
      ],
      "metadata": {
        "id": "bGZ1LlcJIUPA",
        "outputId": "b91b750d-e814-4fa5-d97e-aa485582e68d",
        "colab": {
          "base_uri": "https://localhost:8080/"
        }
      },
      "execution_count": 61,
      "outputs": [
        {
          "output_type": "stream",
          "name": "stdout",
          "text": [
            "\n",
            "Reading file: cat.txt\n",
            "File not found.\n",
            "\n",
            "Reading file: dogs.txt\n",
            "Sadie\n",
            "Murphy\n",
            "Bruin\n"
          ]
        }
      ]
    },
    {
      "cell_type": "markdown",
      "metadata": {
        "id": "Mk3RLEW_UlD2"
      },
      "source": [
        "## Question 9\n",
        "**Silent Cats and Dogs:** Modify your except block in Question 8 to fail silently if either file is missing."
      ]
    },
    {
      "cell_type": "code",
      "execution_count": 62,
      "metadata": {
        "id": "lCNiV2yKUlD2",
        "outputId": "c4a1434b-d045-4217-bad4-5bbc1b801109",
        "colab": {
          "base_uri": "https://localhost:8080/"
        }
      },
      "outputs": [
        {
          "output_type": "stream",
          "name": "stdout",
          "text": [
            "\n",
            "Reading File: dogs.txt\n",
            "Sadie\n",
            "Murphy\n",
            "Bruin\n"
          ]
        }
      ],
      "source": [
        "filenames = ['cat.txt', 'dogs.txt']\n",
        "for filename in filenames:\n",
        "  try:\n",
        "    with open(filename) as f:\n",
        "      contents = f.read()\n",
        "  except FileNotFoundError:\n",
        "    pass\n",
        "  else:\n",
        "    print(\"\\nReading File: \" + filename)\n",
        "    print(contents)"
      ]
    },
    {
      "cell_type": "markdown",
      "metadata": {
        "id": "it7P8ZxXUlD2"
      },
      "source": [
        "## Question 10\n",
        "**Common Words:** Visit Project Gutenberg (https://gutenberg.org/) and find a few texts you’d like to analyze. Download the text files for these works, or copy the raw text from your browser into a text file on your computer. You can use the `count()` method to find out how many times a word or phrase appears in a string. For example, the following code counts the number of times 'row' appears in a string:"
      ]
    },
    {
      "cell_type": "code",
      "execution_count": null,
      "metadata": {
        "id": "LVIR5g6DUlD2",
        "outputId": "1b082bef-7729-49d6-8804-6e1b0e6f278f"
      },
      "outputs": [
        {
          "data": {
            "text/plain": [
              "2"
            ]
          },
          "execution_count": 1,
          "metadata": {},
          "output_type": "execute_result"
        }
      ],
      "source": [
        "line = \"Row, row, row your boat\"\n",
        "line.count('row')"
      ]
    },
    {
      "cell_type": "code",
      "execution_count": null,
      "metadata": {
        "id": "XCbyndIYUlD2",
        "outputId": "d81a7688-5685-458e-b834-1703f6170abd"
      },
      "outputs": [
        {
          "data": {
            "text/plain": [
              "3"
            ]
          },
          "execution_count": 2,
          "metadata": {},
          "output_type": "execute_result"
        }
      ],
      "source": [
        "line.lower().count('row')"
      ]
    },
    {
      "cell_type": "markdown",
      "metadata": {
        "id": "t0X5HxTyUlD3"
      },
      "source": [
        "Notice that converting the string to lowercase using lower() catches all appearances of the word you’re looking for, regardless of how it’s formatted.\n",
        "\n",
        "Write a program that reads the files you found at Project Gutenberg and determines how many times the word `the` appears in each text. This will be an approximation because it will also count words such as `then` and `there`. Try counting `the`, with a space in the string, and see how much lower your count is."
      ]
    },
    {
      "cell_type": "code",
      "execution_count": 71,
      "metadata": {
        "id": "MZoIKACDUlD3",
        "outputId": "6b4b0a47-1ecd-41ff-ba50-7b04c7a16c8f",
        "colab": {
          "base_uri": "https://localhost:8080/"
        }
      },
      "outputs": [
        {
          "output_type": "stream",
          "name": "stdout",
          "text": [
            "'it' appears in nature.txt 15 times.\n"
          ]
        }
      ],
      "source": [
        "f = open(\"nature.txt\",)\n",
        "def common_words(filename, word):\n",
        "  try:\n",
        "    with open(filename, encoding='utf-8') as f:\n",
        "      contents = f.read()\n",
        "  except FileNotFoundError:\n",
        "    pass\n",
        "  else:\n",
        "    word_count = contents.lower().count(word)\n",
        "    message = f\"'{word}' appears in {filename} {word_count} times.\"\n",
        "    print(message)\n",
        "filename = 'nature.txt'\n",
        "common_words(filename, 'it')"
      ]
    },
    {
      "cell_type": "markdown",
      "metadata": {
        "id": "hYtQRTj6UlD3"
      },
      "source": [
        "## Question 11\n",
        "**Favorite Number:** Write a program that prompts for the user’s favorite number. Use `json.dump()` to store this number in a file. Write a separate program that reads in this value and prints the message, `I know your favorite number! It’s _____.`"
      ]
    },
    {
      "cell_type": "code",
      "execution_count": 12,
      "metadata": {
        "id": "7I4fRzEUUlD3",
        "outputId": "7e56476b-143f-43bc-8385-05a1ce4bebf5",
        "colab": {
          "base_uri": "https://localhost:8080/"
        }
      },
      "outputs": [
        {
          "name": "stdout",
          "output_type": "stream",
          "text": [
            "Favorite number: 6\n"
          ]
        }
      ],
      "source": [
        "import json\n",
        "number = input(\"Favorite number: \")\n",
        "with open('favorite_number.json', 'w') as f:\n",
        "  json.dump(number, f)"
      ]
    },
    {
      "cell_type": "code",
      "source": [
        "import json\n",
        "with open('favorite_number.json') as f:\n",
        "  number = json.load(f)\n",
        "print(\"I know your favorite number! it's \" + str(number) + \".\")"
      ],
      "metadata": {
        "id": "VfXyrm4_r_Oz",
        "outputId": "0936e079-7efb-42f2-f03e-43280c77fea1",
        "colab": {
          "base_uri": "https://localhost:8080/"
        }
      },
      "execution_count": 13,
      "outputs": [
        {
          "output_type": "stream",
          "name": "stdout",
          "text": [
            "I know your favorite number! it's 6.\n"
          ]
        }
      ]
    },
    {
      "cell_type": "markdown",
      "metadata": {
        "id": "7AY8QUDwUlD3"
      },
      "source": [
        "## Question 12\n",
        "**Favorite Number Remembered:** Combine the two programs from Question 10 into one file. If the number is already stored, report the favorite number to the user. If not, prompt for the user’s favorite number and store it in a file. Run the program twice to see that it works."
      ]
    },
    {
      "cell_type": "code",
      "execution_count": 72,
      "metadata": {
        "id": "jp3YdsVwUlD3",
        "outputId": "cd8f3f51-421d-4680-f2e5-3e0fd95af5fb",
        "colab": {
          "base_uri": "https://localhost:8080/"
        }
      },
      "outputs": [
        {
          "output_type": "stream",
          "name": "stdout",
          "text": [
            "I know your favorite number! It's 6.\n"
          ]
        }
      ],
      "source": [
        "import json\n",
        "try:\n",
        "  with open('favorite_number.json') as f:\n",
        "    number = json.load(f)\n",
        "except FileNotFoundError:\n",
        "  number = input(\"Favorite number: \")\n",
        "  with open('favorite_number.json', 'w') as f:\n",
        "    json.dump(number, f)\n",
        "    print('thank you')\n",
        "else:\n",
        "    print(\"I know your favorite number! It's \" + str(number) + \".\")"
      ]
    }
  ],
  "metadata": {
    "kernelspec": {
      "display_name": "Python 3",
      "language": "python",
      "name": "python3"
    },
    "language_info": {
      "codemirror_mode": {
        "name": "ipython",
        "version": 3
      },
      "file_extension": ".py",
      "mimetype": "text/x-python",
      "name": "python",
      "nbconvert_exporter": "python",
      "pygments_lexer": "ipython3",
      "version": "3.8.5"
    },
    "colab": {
      "provenance": []
    }
  },
  "nbformat": 4,
  "nbformat_minor": 0
}